{
 "cells": [
  {
   "cell_type": "code",
   "execution_count": 6,
   "metadata": {},
   "outputs": [
    {
     "name": "stdout",
     "output_type": "stream",
     "text": [
      "Accuracy score with XGboost : 0.8609422025674098\n"
     ]
    },
    {
     "name": "stderr",
     "output_type": "stream",
     "text": [
      "C:\\Users\\Harekrishna\\Anaconda3\\lib\\site-packages\\sklearn\\preprocessing\\label.py:151: DeprecationWarning: The truth value of an empty array is ambiguous. Returning False, but in future this will result in an error. Use `array.size > 0` to check that an array is not empty.\n",
      "  if diff:\n",
      "C:\\Users\\Harekrishna\\Anaconda3\\lib\\site-packages\\sklearn\\preprocessing\\label.py:151: DeprecationWarning: The truth value of an empty array is ambiguous. Returning False, but in future this will result in an error. Use `array.size > 0` to check that an array is not empty.\n",
      "  if diff:\n"
     ]
    }
   ],
   "source": [
    "import numpy as np\n",
    "import pandas as pd\n",
    "import xgboost\n",
    "from sklearn.preprocessing import LabelEncoder, OneHotEncoder\n",
    "\n",
    "train_set =pd.read_csv('http://archive.ics.uci.edu/ml/machine-learning-databases/adult/adult.data', header = None)\n",
    "\n",
    "test_set = pd.read_csv('http://archive.ics.uci.edu/ml/machine-learning-databases/adult/adult.test', skiprows = 1, header = None)\n",
    "\n",
    "col_labels = ['age', 'workclass', 'fnlwgt', 'education', 'education_num', 'marital_status',\\\n",
    "              'occupation','relationship', 'race', 'sex', 'capital_gain', 'capital_loss', \\\n",
    "              'hours_per_week', 'native_country', 'wage_class']\n",
    "train_set.columns = col_labels\n",
    "test_set.columns = col_labels\n",
    "\n",
    "#train_set['wage_class'].value_counts(dropna=False)\n",
    "#test_set['wage_class'].value_counts(dropna=False)\n",
    "\n",
    "# X_train and y_train split\n",
    "X_train=train_set.iloc[:,0:14]\n",
    "y_train=train_set.iloc[:,-1]\n",
    "\n",
    "X_test=test_set.iloc[:,0:14]\n",
    "y_test=test_set.iloc[:,-1]\n",
    "\n",
    "# Data preprocessing \n",
    "test_set = test_set.replace({' <=50K.':' <=50K' , ' >50K.':' >50K'})\n",
    "\n",
    "# Encoding categorical data\n",
    "lblenc=LabelEncoder()\n",
    "\n",
    "X_train=X_train.apply(lblenc.fit_transform)\n",
    "y_train=lblenc.fit_transform(y_train)\n",
    "\n",
    "X_test=X_test.apply(lblenc.fit_transform)\n",
    "y_test=lblenc.fit_transform(y_test)\n",
    "'''\n",
    "onehotencoder = OneHotEncoder(categorical_features = [1])\n",
    "X_train = onehotencoder.fit_transform(X_train)#.toarray()\n",
    "X_test = onehotencoder.fit_transform(X_test)\n",
    "'''\n",
    "y_train = pd.Series(y_train)\n",
    "y_test = pd.Series(y_test)\n",
    "\n",
    "#fitting XGBoost to the Training set\n",
    "classifier = xgboost.XGBClassifier()\n",
    "classifier.fit(X_train,y_train)\n",
    "xscore=classifier.score(X_train,y_train)\n",
    "\n",
    "#Predicting the test results\n",
    "y_pred=classifier.predict(X_test)\n",
    "\n",
    "#make the confusion matricx\n",
    "from sklearn.metrics import confusion_matrix,accuracy_score\n",
    "cm = confusion_matrix(y_test,y_pred)\n",
    "xgscore=accuracy_score(y_test,y_pred)\n",
    "print(\"Accuracy score with XGboost : \"+ str(xgscore))"
   ]
  },
  {
   "cell_type": "code",
   "execution_count": null,
   "metadata": {},
   "outputs": [],
   "source": []
  }
 ],
 "metadata": {
  "kernelspec": {
   "display_name": "Python 3",
   "language": "python",
   "name": "python3"
  },
  "language_info": {
   "codemirror_mode": {
    "name": "ipython",
    "version": 3
   },
   "file_extension": ".py",
   "mimetype": "text/x-python",
   "name": "python",
   "nbconvert_exporter": "python",
   "pygments_lexer": "ipython3",
   "version": "3.6.5"
  }
 },
 "nbformat": 4,
 "nbformat_minor": 2
}
